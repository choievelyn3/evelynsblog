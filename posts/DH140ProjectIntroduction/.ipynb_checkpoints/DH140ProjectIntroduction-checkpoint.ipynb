{
 "cells": [
  {
   "cell_type": "markdown",
   "id": "6610348f",
   "metadata": {},
   "source": [
    "---\n",
    "title: \"DH 140 Project Introduction\"\n",
    "description: \"I will be primarily focusing on 'Pride and Prejudice' by Jane Austen from Project Gutenberg.\"\n",
    "author: \"Evelyn Choi\"\n",
    "date: \"03/13/2023\"\n",
    "categories: [Introduction, Questions, Resources]\n",
    "date-modified: \"03/13/2023\"\n",
    "---"
   ]
  },
  {
   "cell_type": "code",
   "execution_count": 6,
   "id": "8f6e76be",
   "metadata": {},
   "outputs": [],
   "source": [
    "import requests"
   ]
  },
  {
   "cell_type": "code",
   "execution_count": 7,
   "id": "f3c2c9c7",
   "metadata": {},
   "outputs": [],
   "source": [
    "target_url = \"https://www.gutenberg.org/files/1342/1342-0.txt\"\n",
    "response = requests.get(target_url)\n",
    "pnp_string = response.text\n",
    "pnp_string = pnp_string.split('*** START OF THE PROJECT GUTENBERG EBOOK PRIDE AND PREJUDICE ***')[1]\n",
    "pnp_string = pnp_string.split('*** END OF THE PROJECT GUTENBERG EBOOK PRIDE AND PREJUDICE ***')[0]\n",
    "pnp_string = pnp_string.lower()"
   ]
  },
  {
   "cell_type": "markdown",
   "id": "29991af7",
   "metadata": {},
   "source": [
    "Pride and Prejudice by Jane Austen is a cherished favorite of the romance genre and a personal favorite of mine. Austen's work stands out in the literary world because of her distinctive and unmatched writing style. My motivation with this data analysis project is to dive further into the impact of Austen's writings, analyzing how they create character growth and the plot throughout the novel. \n",
    "\n",
    "In revisiting the delightful world of Elizabeth and Mr. Darcy, I want to better appreciate the power of language and word choice in giving these characters life and setting the story's trajectory. I'm excited to learn more about Austen's work and its profound influence on future generations of readers as I set out on this adventure. Pride and Prejudice is an unrivaled example of Austen's influential writing and has left an enduring impression on the world of literature.\n"
   ]
  },
  {
   "cell_type": "markdown",
   "id": "79572510",
   "metadata": {},
   "source": [
    "# Questions:\n",
    "\n",
    "A few questions that I hope to answer through my project are:\n",
    "\n",
    "- Which words appear frequently in Pride and Prejudice? \n",
    "- As the story progresses, how does Elizabeth Bennet's and Mr. Darcy's relationship develop\n",
    "- Why do male and females in Pride and Prejudice speak differently, and how does this effect the novel's overall tone and message? \n",
    "- How does the overall tone shift when a significant event occurs or is about to occur?\n",
    "- How does the sentiment differ based on the various social classes in Pride and Prejudice? \n",
    "- How can certain words or word categories help to develop the ideas of Pride and Prejudice? \n",
    "- As relationships grow or sour in the novel, how does the word choices or sentiment evolve? \n",
    "- What are some similarities and differences in the language and emotion used by the various characters in Pride and Prejudice, and how do these elements develop over the novel?"
   ]
  },
  {
   "cell_type": "markdown",
   "id": "0b3f087d",
   "metadata": {},
   "source": [
    "# Additional Sources:\n",
    "\n",
    "- https://www.nytimes.com/2017/07/06/upshot/the-word-choices-that-explain-why-jane-austen-endures.html\n",
    "\n",
    "- Runge, Laura L. “Austen and Computation 2.0.” Texas Studies in Literature & Language, vol. 61, no. 4, Winter 2019, pp. 397–415. EBSCOhost, https://doi.org/10.7560/tsll61405.\n",
    "\n",
    "- https://datascientistdiary.com/index.php/2021/02/04/introduction-to-text-mining-and-sentiment-analysis-in-r-with-jane-austens-novels/"
   ]
  },
  {
   "cell_type": "code",
   "execution_count": null,
   "id": "ff31cb59",
   "metadata": {},
   "outputs": [],
   "source": []
  }
 ],
 "metadata": {
  "kernelspec": {
   "display_name": "Python 3 (ipykernel)",
   "language": "python",
   "name": "python3"
  },
  "language_info": {
   "codemirror_mode": {
    "name": "ipython",
    "version": 3
   },
   "file_extension": ".py",
   "mimetype": "text/x-python",
   "name": "python",
   "nbconvert_exporter": "python",
   "pygments_lexer": "ipython3",
   "version": "3.10.8"
  }
 },
 "nbformat": 4,
 "nbformat_minor": 5
}
