{
 "cells": [
  {
   "cell_type": "markdown",
   "id": "6610348f",
   "metadata": {},
   "source": [
    "---\n",
    "title: \"DH 140 Project Introduction\"\n",
    "description: \"I will be primarily focusing on 'Pride and Prejudice' by Jane Austen from Project Gutenberg.\"\n",
    "author: \"Evelyn Choi\"\n",
    "date: \"03/13/2023\"\n",
    "categories: [Introduction]\n",
    "date-modified: \"03/13/2023\"\n",
    "---"
   ]
  },
  {
   "cell_type": "code",
   "execution_count": 6,
   "id": "8f6e76be",
   "metadata": {},
   "outputs": [],
   "source": [
    "import requests"
   ]
  },
  {
   "cell_type": "code",
   "execution_count": 7,
   "id": "f3c2c9c7",
   "metadata": {},
   "outputs": [],
   "source": [
    "target_url = \"https://www.gutenberg.org/files/1342/1342-0.txt\"\n",
    "response = requests.get(target_url)\n",
    "pnp_string = response.text\n",
    "pnp_string = pnp_string.split('*** START OF THE PROJECT GUTENBERG EBOOK PRIDE AND PREJUDICE ***')[1]\n",
    "pnp_string = pnp_string.split('*** END OF THE PROJECT GUTENBERG EBOOK PRIDE AND PREJUDICE ***')[0]\n",
    "pnp_string = pnp_string.lower()"
   ]
  },
  {
   "cell_type": "markdown",
   "id": "29991af7",
   "metadata": {},
   "source": [
    "My motivation with this project is to analyze the language and the sentiment of the various characters in Pride and Prejudice. I want to understand how much influence language and the sentiment have on the characters and the overall story.\n",
    "\n"
   ]
  },
  {
   "cell_type": "markdown",
   "id": "79572510",
   "metadata": {},
   "source": [
    "# Questions:\n",
    "\n",
    "A few questions that I hope to answer through my project are:\n",
    "\n",
    "- Which words appear frequently in Pride and Prejudice? \n",
    "- How does Elizabeth Bennet's and Mr. Darcy's relationship develop as the story progresses?- Why do different genders in Pride and Prejudice speak differently, and how does this effect the novel's overall tone and message? \n",
    "- What significant events cause shifts in how people feel in Pride and Prejudice, and what causes those shifts to occur? \n",
    "- How do the sentiments of Pride and Prejudice's various social classes vary? \n",
    "- How can certain words or word categories help to develop the ideas of Pride and Prejudice? \n",
    "- How does Pride and Prejudice's evolving main characters and their relationship with one another shape the novel's tone? \n",
    "- What are some similarities and differences in the language and emotion used by the various characters in Pride and Prejudice, and how do these elements develop over the novel?"
   ]
  },
  {
   "cell_type": "markdown",
   "id": "0b3f087d",
   "metadata": {},
   "source": [
    "# Additional Sources:\n",
    "\n",
    "- https://www.nytimes.com/2017/07/06/upshot/the-word-choices-that-explain-why-jane-austen-endures.html\n",
    "\n",
    "- Runge, Laura L. “Austen and Computation 2.0.” Texas Studies in Literature & Language, vol. 61, no. 4, Winter 2019, pp. 397–415. EBSCOhost, https://doi.org/10.7560/tsll61405.\n",
    "\n",
    "- https://datascientistdiary.com/index.php/2021/02/04/introduction-to-text-mining-and-sentiment-analysis-in-r-with-jane-austens-novels/"
   ]
  },
  {
   "cell_type": "code",
   "execution_count": null,
   "id": "ff31cb59",
   "metadata": {},
   "outputs": [],
   "source": []
  }
 ],
 "metadata": {
  "kernelspec": {
   "display_name": "Python 3 (ipykernel)",
   "language": "python",
   "name": "python3"
  },
  "language_info": {
   "codemirror_mode": {
    "name": "ipython",
    "version": 3
   },
   "file_extension": ".py",
   "mimetype": "text/x-python",
   "name": "python",
   "nbconvert_exporter": "python",
   "pygments_lexer": "ipython3",
   "version": "3.10.8"
  }
 },
 "nbformat": 4,
 "nbformat_minor": 5
}
